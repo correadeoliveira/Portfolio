{
  "nbformat": 4,
  "nbformat_minor": 0,
  "metadata": {
    "colab": {
      "name": "DesafioTecnicoGeofusion-ThiagoCorrea.ipynb",
      "provenance": [],
      "collapsed_sections": [],
      "authorship_tag": "ABX9TyMjU5khQRZuD7Ufi5ItGj4F",
      "include_colab_link": true
    },
    "kernelspec": {
      "name": "python3",
      "display_name": "Python 3"
    },
    "language_info": {
      "name": "python"
    }
  },
  "cells": [
    {
      "cell_type": "markdown",
      "metadata": {
        "id": "view-in-github",
        "colab_type": "text"
      },
      "source": [
        "<a href=\"https://colab.research.google.com/github/thiagoCorreaOriginal/Portfolio/blob/main/FaturamentoRioDeJaneiro.ipynb\" target=\"_parent\"><img src=\"https://colab.research.google.com/assets/colab-badge.svg\" alt=\"Open In Colab\"/></a>"
      ]
    },
    {
      "cell_type": "markdown",
      "metadata": {
        "id": "eqQmOdyfhLdT"
      },
      "source": [
        "# Pré-processamento dos dados"
      ]
    },
    {
      "cell_type": "markdown",
      "metadata": {
        "id": "MFQ6CLtrlg9D"
      },
      "source": [
        ">Importar as bibliotecas que serão usadas na pipeline:"
      ]
    },
    {
      "cell_type": "code",
      "metadata": {
        "id": "qLE7YzICgo3J"
      },
      "source": [
        "# biblioteca que ofere funções matemáticas no python\n",
        "import numpy as np\n",
        "# biblioteca para usar e lidar com datasets\n",
        "import pandas as pd\n",
        "# biblioteca que contém um útil acervo de gráficos a serem usados\n",
        "import matplotlib.pyplot as plt\n",
        "# biblioteca que permite outros gráficos interessantes\n",
        "import seaborn as sns\n",
        "# biblioteca do conjunto sklearn para fazer o modelo de regressão linear\n",
        "from sklearn.linear_model import LinearRegression\n",
        "# biblioteca de divisão em treino e teste\n",
        "from sklearn.model_selection import train_test_split\n",
        "# biblioteca de padronização da escala dos dados\n",
        "from sklearn.preprocessing import StandardScaler\n",
        "# biblioteca de uso da métrica de mse\n",
        "from sklearn.metrics import mean_squared_error"
      ],
      "execution_count": 3,
      "outputs": []
    },
    {
      "cell_type": "markdown",
      "metadata": {
        "id": "SdnN8aXTUYXl"
      },
      "source": [
        "> Importar o conjunto de dados que será analisado"
      ]
    },
    {
      "cell_type": "code",
      "metadata": {
        "id": "2yQr-K_bhP2u"
      },
      "source": [
        "dados = pd.read_csv(\"DesafioEstagioMachineLearning.csv\")"
      ],
      "execution_count": 4,
      "outputs": []
    },
    {
      "cell_type": "code",
      "metadata": {
        "colab": {
          "base_uri": "https://localhost:8080/",
          "height": 116
        },
        "id": "iaH4qa7FUml6",
        "outputId": "9547a699-29da-48aa-a61e-163258ac9e9d"
      },
      "source": [
        "dados.head(1)"
      ],
      "execution_count": 5,
      "outputs": [
        {
          "output_type": "execute_result",
          "data": {
            "text/html": [
              "<div>\n",
              "<style scoped>\n",
              "    .dataframe tbody tr th:only-of-type {\n",
              "        vertical-align: middle;\n",
              "    }\n",
              "\n",
              "    .dataframe tbody tr th {\n",
              "        vertical-align: top;\n",
              "    }\n",
              "\n",
              "    .dataframe thead th {\n",
              "        text-align: right;\n",
              "    }\n",
              "</style>\n",
              "<table border=\"1\" class=\"dataframe\">\n",
              "  <thead>\n",
              "    <tr style=\"text-align: right;\">\n",
              "      <th></th>\n",
              "      <th>codigo</th>\n",
              "      <th>nome</th>\n",
              "      <th>cidade</th>\n",
              "      <th>estado</th>\n",
              "      <th>população</th>\n",
              "      <th>popAte9</th>\n",
              "      <th>popDe10a14</th>\n",
              "      <th>popDe15a19</th>\n",
              "      <th>popDe20a24</th>\n",
              "      <th>popDe25a34</th>\n",
              "      <th>popDe35a49</th>\n",
              "      <th>popDe50a59</th>\n",
              "      <th>popMaisDe60</th>\n",
              "      <th>domiciliosA1</th>\n",
              "      <th>domiciliosA2</th>\n",
              "      <th>domiciliosB1</th>\n",
              "      <th>domiciliosB2</th>\n",
              "      <th>domiciliosC1</th>\n",
              "      <th>domiciliosC2</th>\n",
              "      <th>domiciliosD</th>\n",
              "      <th>domiciliosE</th>\n",
              "      <th>rendaMedia</th>\n",
              "      <th>faturamento</th>\n",
              "    </tr>\n",
              "  </thead>\n",
              "  <tbody>\n",
              "    <tr>\n",
              "      <th>0</th>\n",
              "      <td>3304557060</td>\n",
              "      <td>Abolição</td>\n",
              "      <td>Rio de Janeiro</td>\n",
              "      <td>RJ</td>\n",
              "      <td>11676</td>\n",
              "      <td>1027</td>\n",
              "      <td>483</td>\n",
              "      <td>688</td>\n",
              "      <td>800</td>\n",
              "      <td>1675</td>\n",
              "      <td>2300</td>\n",
              "      <td>1784</td>\n",
              "      <td>2919</td>\n",
              "      <td>0</td>\n",
              "      <td>145</td>\n",
              "      <td>715</td>\n",
              "      <td>1242</td>\n",
              "      <td>1093</td>\n",
              "      <td>758</td>\n",
              "      <td>92</td>\n",
              "      <td>304</td>\n",
              "      <td>2501.0</td>\n",
              "      <td>932515.0</td>\n",
              "    </tr>\n",
              "  </tbody>\n",
              "</table>\n",
              "</div>"
            ],
            "text/plain": [
              "       codigo      nome          cidade  ... domiciliosE  rendaMedia  faturamento\n",
              "0  3304557060  Abolição  Rio de Janeiro  ...         304      2501.0     932515.0\n",
              "\n",
              "[1 rows x 23 columns]"
            ]
          },
          "metadata": {
            "tags": []
          },
          "execution_count": 5
        }
      ]
    },
    {
      "cell_type": "markdown",
      "metadata": {
        "id": "fmFrt_GqHP9a"
      },
      "source": [
        "#**Dicionário dos dados:**\n",
        "\n",
        "\n",
        "---\n",
        "\n",
        "\n",
        "* codigo: Código do bairro\n",
        "* nome: Nome do bairro\n",
        "* cidade: Cidade\n",
        "* estado: Estado\n",
        "* população: População total\n",
        "* popAte9: População - até 9 anos\n",
        "* popDe10a14: População - de 10 a 14 anos\n",
        "* popDe15a19: População - de 15 a 19 anos\n",
        "* popDe20a24: População - de 20 a 24 anos\n",
        "* popDe25a34: População - de 25 a 34 anos\n",
        "* popDe35a49: População - de 35 a 49 anos\n",
        "* popDe50a59: População - de 50 a 59 anos\n",
        "* popMaisDe60: População - 60 anos ou mais\n",
        "* domiciliosA1: Quantidade de Domicílios de Renda A1\n",
        "* domiciliosA2: Quantidade de Domicílios de Renda A2\n",
        "* domiciliosB1: Quantidade de Domicílios de Renda B1\n",
        "* domiciliosB2: Quantidade de Domicílios de Renda B2\n",
        "* domiciliosC1: Quantidade de Domicílios de Renda C1\n",
        "* domiciliosC2: Quantidade de Domicílios de Renda C2\n",
        "* domiciliosD: Quantidade de Domicílios de Renda D\n",
        "* domiciliosE: Quantidade de Domicílios de Renda E\n",
        "* rendaMedia: Renda Média por Domicílio\n",
        "* faturamento: Faturamento Total no Bairro"
      ]
    },
    {
      "cell_type": "markdown",
      "metadata": {
        "id": "4oaIDltLf8oR"
      },
      "source": [
        "# Limpeza e tratamento dos dados"
      ]
    },
    {
      "cell_type": "code",
      "metadata": {
        "colab": {
          "base_uri": "https://localhost:8080/"
        },
        "id": "56jT4Hm7UnsW",
        "outputId": "8ba037e4-be21-4c35-b65e-6ecb6f699343"
      },
      "source": [
        "# tipo dos dados\n",
        "dados.dtypes"
      ],
      "execution_count": 6,
      "outputs": [
        {
          "output_type": "execute_result",
          "data": {
            "text/plain": [
              "codigo            int64\n",
              "nome             object\n",
              "cidade           object\n",
              "estado           object\n",
              "população         int64\n",
              "popAte9           int64\n",
              "popDe10a14        int64\n",
              "popDe15a19        int64\n",
              "popDe20a24        int64\n",
              "popDe25a34        int64\n",
              "popDe35a49        int64\n",
              "popDe50a59        int64\n",
              "popMaisDe60       int64\n",
              "domiciliosA1      int64\n",
              "domiciliosA2      int64\n",
              "domiciliosB1      int64\n",
              "domiciliosB2      int64\n",
              "domiciliosC1      int64\n",
              "domiciliosC2      int64\n",
              "domiciliosD       int64\n",
              "domiciliosE       int64\n",
              "rendaMedia      float64\n",
              "faturamento     float64\n",
              "dtype: object"
            ]
          },
          "metadata": {
            "tags": []
          },
          "execution_count": 6
        }
      ]
    },
    {
      "cell_type": "markdown",
      "metadata": {
        "id": "1zSVV0uQJ3p0"
      },
      "source": [
        "> As quatro primeiras features (colunas) não agregam muito para a análise, uma vez que elas representam apenas uma identificação sobre a inserção do dado, além de não impactarem no modelo (nesse momento)"
      ]
    },
    {
      "cell_type": "code",
      "metadata": {
        "colab": {
          "base_uri": "https://localhost:8080/"
        },
        "id": "5h8-aCAMKT7J",
        "outputId": "6958d3ba-7660-4cff-a7c1-514643ccb796"
      },
      "source": [
        "# Uma característica interessante dos dados é que todas as ocorrências pertencem a cidade do Rio de Janeiro\n",
        "dados['cidade'].value_counts()"
      ],
      "execution_count": 7,
      "outputs": [
        {
          "output_type": "execute_result",
          "data": {
            "text/plain": [
              "Rio de Janeiro    160\n",
              "Name: cidade, dtype: int64"
            ]
          },
          "metadata": {
            "tags": []
          },
          "execution_count": 7
        }
      ]
    },
    {
      "cell_type": "code",
      "metadata": {
        "id": "LO6aEJzjJwId"
      },
      "source": [
        "# Portanto podemos remover os dados categóricos e a coluna código\n",
        "dados.drop(['codigo','nome','cidade','estado'], axis = 1 , inplace = True)"
      ],
      "execution_count": 8,
      "outputs": []
    },
    {
      "cell_type": "code",
      "metadata": {
        "colab": {
          "base_uri": "https://localhost:8080/"
        },
        "id": "73KeJMTYNfIK",
        "outputId": "de7f5e2e-e1a8-41de-ad4b-ba64d7a46202"
      },
      "source": [
        "# Verificar a existência de dados nulos\n",
        "print(pd.isnull(dados).sum())"
      ],
      "execution_count": 9,
      "outputs": [
        {
          "output_type": "stream",
          "text": [
            "população       0\n",
            "popAte9         0\n",
            "popDe10a14      0\n",
            "popDe15a19      0\n",
            "popDe20a24      0\n",
            "popDe25a34      0\n",
            "popDe35a49      0\n",
            "popDe50a59      0\n",
            "popMaisDe60     0\n",
            "domiciliosA1    0\n",
            "domiciliosA2    0\n",
            "domiciliosB1    0\n",
            "domiciliosB2    0\n",
            "domiciliosC1    0\n",
            "domiciliosC2    0\n",
            "domiciliosD     0\n",
            "domiciliosE     0\n",
            "rendaMedia      6\n",
            "faturamento     0\n",
            "dtype: int64\n"
          ],
          "name": "stdout"
        }
      ]
    },
    {
      "cell_type": "markdown",
      "metadata": {
        "id": "4QDqBN1DOvB3"
      },
      "source": [
        "A renda media possui 6 linhas faltantes, portanto é necessário preenchê-las de alguma forma"
      ]
    },
    {
      "cell_type": "code",
      "metadata": {
        "colab": {
          "base_uri": "https://localhost:8080/"
        },
        "id": "-bNOGlyrPIgR",
        "outputId": "5c8266df-ef6e-42ba-a908-ac616e614bfd"
      },
      "source": [
        "dados['rendaMedia'].describe()"
      ],
      "execution_count": 10,
      "outputs": [
        {
          "output_type": "execute_result",
          "data": {
            "text/plain": [
              "count      154.000000\n",
              "mean      3608.071429\n",
              "std       6091.865305\n",
              "min        654.000000\n",
              "25%       1486.000000\n",
              "50%       1915.500000\n",
              "75%       2954.500000\n",
              "max      63887.000000\n",
              "Name: rendaMedia, dtype: float64"
            ]
          },
          "metadata": {
            "tags": []
          },
          "execution_count": 10
        }
      ]
    },
    {
      "cell_type": "code",
      "metadata": {
        "colab": {
          "base_uri": "https://localhost:8080/",
          "height": 222
        },
        "id": "pviFWGDsPfpe",
        "outputId": "aef74014-694f-4e2f-e6aa-54fd59462b29"
      },
      "source": [
        "# Devido a média ter uma diferença considerável da mediana, podemos ver os valores maiores\n",
        "# para averiguar a existência de outliers que impactem no número da média\n",
        "dados.sort_values('rendaMedia', ascending=False).head()"
      ],
      "execution_count": 11,
      "outputs": [
        {
          "output_type": "execute_result",
          "data": {
            "text/html": [
              "<div>\n",
              "<style scoped>\n",
              "    .dataframe tbody tr th:only-of-type {\n",
              "        vertical-align: middle;\n",
              "    }\n",
              "\n",
              "    .dataframe tbody tr th {\n",
              "        vertical-align: top;\n",
              "    }\n",
              "\n",
              "    .dataframe thead th {\n",
              "        text-align: right;\n",
              "    }\n",
              "</style>\n",
              "<table border=\"1\" class=\"dataframe\">\n",
              "  <thead>\n",
              "    <tr style=\"text-align: right;\">\n",
              "      <th></th>\n",
              "      <th>população</th>\n",
              "      <th>popAte9</th>\n",
              "      <th>popDe10a14</th>\n",
              "      <th>popDe15a19</th>\n",
              "      <th>popDe20a24</th>\n",
              "      <th>popDe25a34</th>\n",
              "      <th>popDe35a49</th>\n",
              "      <th>popDe50a59</th>\n",
              "      <th>popMaisDe60</th>\n",
              "      <th>domiciliosA1</th>\n",
              "      <th>domiciliosA2</th>\n",
              "      <th>domiciliosB1</th>\n",
              "      <th>domiciliosB2</th>\n",
              "      <th>domiciliosC1</th>\n",
              "      <th>domiciliosC2</th>\n",
              "      <th>domiciliosD</th>\n",
              "      <th>domiciliosE</th>\n",
              "      <th>rendaMedia</th>\n",
              "      <th>faturamento</th>\n",
              "    </tr>\n",
              "  </thead>\n",
              "  <tbody>\n",
              "    <tr>\n",
              "      <th>80</th>\n",
              "      <td>21795</td>\n",
              "      <td>1794</td>\n",
              "      <td>708</td>\n",
              "      <td>1054</td>\n",
              "      <td>1252</td>\n",
              "      <td>2943</td>\n",
              "      <td>4812</td>\n",
              "      <td>3594</td>\n",
              "      <td>5638</td>\n",
              "      <td>2916</td>\n",
              "      <td>2140</td>\n",
              "      <td>1931</td>\n",
              "      <td>697</td>\n",
              "      <td>365</td>\n",
              "      <td>306</td>\n",
              "      <td>0</td>\n",
              "      <td>469</td>\n",
              "      <td>63887.0</td>\n",
              "      <td>1775547.0</td>\n",
              "    </tr>\n",
              "    <tr>\n",
              "      <th>9</th>\n",
              "      <td>139761</td>\n",
              "      <td>13038</td>\n",
              "      <td>5225</td>\n",
              "      <td>7432</td>\n",
              "      <td>8627</td>\n",
              "      <td>21914</td>\n",
              "      <td>32089</td>\n",
              "      <td>21058</td>\n",
              "      <td>30378</td>\n",
              "      <td>13408</td>\n",
              "      <td>11668</td>\n",
              "      <td>14820</td>\n",
              "      <td>5205</td>\n",
              "      <td>3437</td>\n",
              "      <td>1841</td>\n",
              "      <td>0</td>\n",
              "      <td>3897</td>\n",
              "      <td>18084.0</td>\n",
              "      <td>2915612.0</td>\n",
              "    </tr>\n",
              "    <tr>\n",
              "      <th>75</th>\n",
              "      <td>18517</td>\n",
              "      <td>1602</td>\n",
              "      <td>664</td>\n",
              "      <td>945</td>\n",
              "      <td>1008</td>\n",
              "      <td>2788</td>\n",
              "      <td>4135</td>\n",
              "      <td>2822</td>\n",
              "      <td>4553</td>\n",
              "      <td>1641</td>\n",
              "      <td>1273</td>\n",
              "      <td>1913</td>\n",
              "      <td>1108</td>\n",
              "      <td>815</td>\n",
              "      <td>361</td>\n",
              "      <td>0</td>\n",
              "      <td>289</td>\n",
              "      <td>17984.0</td>\n",
              "      <td>1491476.0</td>\n",
              "    </tr>\n",
              "    <tr>\n",
              "      <th>79</th>\n",
              "      <td>842</td>\n",
              "      <td>61</td>\n",
              "      <td>29</td>\n",
              "      <td>35</td>\n",
              "      <td>46</td>\n",
              "      <td>131</td>\n",
              "      <td>192</td>\n",
              "      <td>132</td>\n",
              "      <td>216</td>\n",
              "      <td>79</td>\n",
              "      <td>59</td>\n",
              "      <td>57</td>\n",
              "      <td>33</td>\n",
              "      <td>7</td>\n",
              "      <td>8</td>\n",
              "      <td>0</td>\n",
              "      <td>20</td>\n",
              "      <td>17659.0</td>\n",
              "      <td>1162364.0</td>\n",
              "    </tr>\n",
              "    <tr>\n",
              "      <th>131</th>\n",
              "      <td>11290</td>\n",
              "      <td>885</td>\n",
              "      <td>500</td>\n",
              "      <td>661</td>\n",
              "      <td>726</td>\n",
              "      <td>1464</td>\n",
              "      <td>2463</td>\n",
              "      <td>1741</td>\n",
              "      <td>2850</td>\n",
              "      <td>939</td>\n",
              "      <td>956</td>\n",
              "      <td>744</td>\n",
              "      <td>418</td>\n",
              "      <td>432</td>\n",
              "      <td>356</td>\n",
              "      <td>37</td>\n",
              "      <td>207</td>\n",
              "      <td>17650.0</td>\n",
              "      <td>1330747.0</td>\n",
              "    </tr>\n",
              "  </tbody>\n",
              "</table>\n",
              "</div>"
            ],
            "text/plain": [
              "     população  popAte9  popDe10a14  ...  domiciliosE  rendaMedia  faturamento\n",
              "80       21795     1794         708  ...          469     63887.0    1775547.0\n",
              "9       139761    13038        5225  ...         3897     18084.0    2915612.0\n",
              "75       18517     1602         664  ...          289     17984.0    1491476.0\n",
              "79         842       61          29  ...           20     17659.0    1162364.0\n",
              "131      11290      885         500  ...          207     17650.0    1330747.0\n",
              "\n",
              "[5 rows x 19 columns]"
            ]
          },
          "metadata": {
            "tags": []
          },
          "execution_count": 11
        }
      ]
    },
    {
      "cell_type": "markdown",
      "metadata": {
        "id": "T7KFppTvPZT4"
      },
      "source": [
        "Nesse caso, há uma ocorrência que se destaca das demais, contendo uma renda média assustadoramente maior que as demais, fato que impacta no valor da média, portanto usaremos o valor da mediana para preencher as lacunas dos dados"
      ]
    },
    {
      "cell_type": "code",
      "metadata": {
        "id": "2_B2waC0PYub"
      },
      "source": [
        "# Preenchendo com o valor da mediana\n",
        "dados.update(dados['rendaMedia'].fillna(dados['rendaMedia'].median()))"
      ],
      "execution_count": 12,
      "outputs": []
    },
    {
      "cell_type": "markdown",
      "metadata": {
        "id": "7AXVmEToRbkn"
      },
      "source": [
        "Dessa forma os dados já foram limpos e estão prontos para a análise exploratória"
      ]
    },
    {
      "cell_type": "markdown",
      "metadata": {
        "id": "FKX5TKkwGn-a"
      },
      "source": [
        "# Análise exploratória dos dados"
      ]
    },
    {
      "cell_type": "markdown",
      "metadata": {
        "id": "x1hBjq6uR1TS"
      },
      "source": [
        "> Uma forma interessante de iniciar a análise, é observar a correlação entre os itens presentes"
      ]
    },
    {
      "cell_type": "code",
      "metadata": {
        "colab": {
          "base_uri": "https://localhost:8080/",
          "height": 612
        },
        "id": "xbOGLeY1MKO-",
        "outputId": "9865521b-0ce5-42f8-bba3-92563018e24b"
      },
      "source": [
        "# Gráfico de correlação entre os dados coletados\n",
        "corr = dados.corr()\n",
        "\n",
        "# Gerar uma máscara para o triângulo de cima\n",
        "mask = np.triu(np.ones_like(corr, dtype=bool))\n",
        "\n",
        "# mudar o tamanho da figura e seus subplots\n",
        "f, ax = plt.subplots(figsize=(11, 9))\n",
        "\n",
        "# customizar a paleta de cores\n",
        "cmap = sns.diverging_palette(230, 20, as_cmap=True)\n",
        "\n",
        "# desenhar o heatmap com os parâmetros definidos\n",
        "sns.heatmap(corr, mask=mask, cmap=cmap, center=0,\n",
        "            square=True, linewidths=.5, cbar_kws={\"shrink\": .5})"
      ],
      "execution_count": 13,
      "outputs": [
        {
          "output_type": "execute_result",
          "data": {
            "text/plain": [
              "<matplotlib.axes._subplots.AxesSubplot at 0x7f38193d8650>"
            ]
          },
          "metadata": {
            "tags": []
          },
          "execution_count": 13
        },
        {
          "output_type": "display_data",
          "data": {
            "image/png": "[encoded data removed]",
            "text/plain": [
              "<Figure size 792x648 with 2 Axes>"
            ]
          },
          "metadata": {
            "tags": [],
            "needs_background": "light"
          }
        }
      ]
    },
    {
      "cell_type": "markdown",
      "metadata": {
        "id": "_JNJqLy4SQCu"
      },
      "source": [
        "A última linha do eixo Y representa o faturamento, ou seja, a renda média e os primeiros tipos de domícilio são os que mais impactam na variação do faturamento, o heatmap também mostra que quanto maior é a quantidade de domícilios de classe mais alta, mais díficil é compreender um padrão entre a faixa etária da população"
      ]
    },
    {
      "cell_type": "code",
      "metadata": {
        "colab": {
          "base_uri": "https://localhost:8080/",
          "height": 336
        },
        "id": "8x8dFPaBSALE",
        "outputId": "730202b4-c86f-46ec-df3b-102029389f07"
      },
      "source": [
        "# tamanho do gráfico\n",
        "plt.figure(figsize=(8,5))\n",
        "# definir o gráfico de pontos\n",
        "sns.scatterplot(y='domiciliosA1', x='faturamento', data = dados)\n",
        "# mostrar ele\n",
        "plt.show()"
      ],
      "execution_count": 14,
      "outputs": [
        {
          "output_type": "display_data",
          "data": {
            "image/png": "[encoded data removed]",
            "text/plain": [
              "<Figure size 576x360 with 1 Axes>"
            ]
          },
          "metadata": {
            "tags": [],
            "needs_background": "light"
          }
        }
      ]
    },
    {
      "cell_type": "markdown",
      "metadata": {
        "id": "8-MV-mF2TRnp"
      },
      "source": [
        "Conforme a quantidade de domícilios A1 vão aumentando, maior é o faturamento, mostrando uma correlação forte e válida, não há casos de bairros com poucos domícilios A1 e com muito faturamento, ou com pouco faturamento e muitos domícilios desse tipo"
      ]
    },
    {
      "cell_type": "code",
      "metadata": {
        "colab": {
          "base_uri": "https://localhost:8080/",
          "height": 334
        },
        "id": "6VvP3JeFS2Yh",
        "outputId": "16d663a6-9114-48f0-fa78-e31adbe68421"
      },
      "source": [
        "# tamanho do gráfico\n",
        "plt.figure(figsize=(8,5))\n",
        "# definir o gráfico de pontos\n",
        "sns.scatterplot(y='domiciliosC2', x='faturamento', data = dados)\n",
        "# mostrar ele\n",
        "plt.show()"
      ],
      "execution_count": 15,
      "outputs": [
        {
          "output_type": "display_data",
          "data": {
            "image/png": "[encoded data removed]",
            "text/plain": [
              "<Figure size 576x360 with 1 Axes>"
            ]
          },
          "metadata": {
            "tags": [],
            "needs_background": "light"
          }
        }
      ]
    },
    {
      "cell_type": "markdown",
      "metadata": {
        "id": "9bwkqtayTr9I"
      },
      "source": [
        "A mesma tendência mostrada no gráfico anterior também ocorre nesse novo gráfico só que de forma inversa, quanto mais domícilios C2 (e C2 pra baixo) existem no bairro, menor é o faturamento "
      ]
    },
    {
      "cell_type": "markdown",
      "metadata": {
        "id": "FS2aHZA7exvq"
      },
      "source": [
        "> Gerar um gráfico de barras com a faixa etária"
      ]
    },
    {
      "cell_type": "code",
      "metadata": {
        "id": "Ahfr7I01XUzA"
      },
      "source": [
        "faixa = []\n",
        "colunas_faixas = dados[['popAte9','popDe10a14','popDe15a19','popDe20a24','popDe25a34','popDe35a49','popDe50a59','popMaisDe60']]\n",
        "# for que percorre as colunas e armazena a soma das linhas de cada uma\n",
        "for coluna,valor in colunas_faixas.iteritems():\n",
        "  faixa.append(colunas_faixas[coluna].sum())\n",
        "\n",
        "dicio = {}\n",
        "# for que une o nome das colunas com sua respectiva soma\n",
        "for c, v in zip(colunas_faixas, faixa):\n",
        "  dicio[c] = v"
      ],
      "execution_count": 16,
      "outputs": []
    },
    {
      "cell_type": "code",
      "metadata": {
        "colab": {
          "base_uri": "https://localhost:8080/",
          "height": 331
        },
        "id": "MESYsse_TqIX",
        "outputId": "0e4aa486-6bd3-4cd9-b70f-a743e95af9a7"
      },
      "source": [
        "# tamanho do gráfico\n",
        "plt.figure(figsize=(12,5))\n",
        "# definir o gráfico de barras\n",
        "sns.barplot(x =list(dicio.keys()), y=list(dicio.values()), color = \"salmon\")\n",
        "# mostrar ele\n",
        "plt.show()"
      ],
      "execution_count": 17,
      "outputs": [
        {
          "output_type": "display_data",
          "data": {
            "image/png": "[encoded data removed]",
            "text/plain": [
              "<Figure size 864x360 with 1 Axes>"
            ]
          },
          "metadata": {
            "tags": [],
            "needs_background": "light"
          }
        }
      ]
    },
    {
      "cell_type": "markdown",
      "metadata": {
        "id": "hZTwrBVvfHSF"
      },
      "source": [
        "Como podemos ver, a quantidade de pré-adolescentes e adolescentes é pequena em relação ao por exemplo a quantidade de pessoas entre 35 a 49 anos, há uma considerável quantidade de pessoas economomicamente improdutivas (crianças e idosos) e boa parte da população está entre 25 e 49 anos"
      ]
    },
    {
      "cell_type": "markdown",
      "metadata": {
        "id": "uUp7jNPGllJM"
      },
      "source": [
        "> Gráficos de barras com a quantidade de domícilios por tipo"
      ]
    },
    {
      "cell_type": "code",
      "metadata": {
        "id": "DHuWivUPlpLK"
      },
      "source": [
        "domicilio = []\n",
        "colunas_dom = dados[['domiciliosA1','domiciliosA2','domiciliosB1','domiciliosB2','domiciliosC1','domiciliosC2','domiciliosD','domiciliosE']]\n",
        "# for que percorre as colunas e armazena a soma das linhas de cada uma\n",
        "for coluna,valor in colunas_dom.iteritems():\n",
        "  domicilio.append(colunas_dom[coluna].sum())\n",
        "\n",
        "dicio_dom = {}\n",
        "# for que une o nome das colunas com sua respectiva soma\n",
        "for c, v in zip(colunas_dom, domicilio):\n",
        "  dicio_dom[c] = v"
      ],
      "execution_count": 18,
      "outputs": []
    },
    {
      "cell_type": "code",
      "metadata": {
        "colab": {
          "base_uri": "https://localhost:8080/",
          "height": 320
        },
        "id": "P5r0AhOUlpRn",
        "outputId": "8d34181f-87aa-4064-85f3-287905f78330"
      },
      "source": [
        "# tamanho do gráfico\n",
        "plt.figure(figsize=(12,5))\n",
        "# definir o gráfico de barras\n",
        "sns.barplot(x =list(dicio_dom.keys()), y=list(dicio_dom.values()), color = \"salmon\")\n",
        "# mostrar ele\n",
        "plt.show()"
      ],
      "execution_count": 19,
      "outputs": [
        {
          "output_type": "display_data",
          "data": {
            "image/png": "[encoded data removed]",
            "text/plain": [
              "<Figure size 864x360 with 1 Axes>"
            ]
          },
          "metadata": {
            "tags": [],
            "needs_background": "light"
          }
        }
      ]
    },
    {
      "cell_type": "markdown",
      "metadata": {
        "id": "DF6emhb2maYD"
      },
      "source": [
        "Os domícilios mais comuns são os \"médios\", da classe B2 até C2, lembrando até uma distribuição normal, também é interessante que o tipo D é tão raro quanto os do tipo A"
      ]
    },
    {
      "cell_type": "markdown",
      "metadata": {
        "id": "ABD5v6wlfpf_"
      },
      "source": [
        "# Modelagem da regressão linear"
      ]
    },
    {
      "cell_type": "markdown",
      "metadata": {
        "id": "dzg6M9pIgNF4"
      },
      "source": [
        "> O modelo irá prever o faturamento com bases nas variáveis escolhidas"
      ]
    },
    {
      "cell_type": "code",
      "metadata": {
        "id": "fb9BaR5kdcIf"
      },
      "source": [
        "# o X é maiúsculo para demonstrar uma relação de dependência, no qual o x compõem as\n",
        "# variáveis independentes e o y compõe a targe (variável dependente)\n",
        "X = dados.drop('faturamento', axis = 1)\n",
        "# o y será o alvo a ser predito\n",
        "y = dados['faturamento']"
      ],
      "execution_count": 20,
      "outputs": []
    },
    {
      "cell_type": "markdown",
      "metadata": {
        "id": "gXbJ_mtthsN8"
      },
      "source": [
        "> Para evitar o overffiting (modelo decorando os dados), iremos dividir o conjunto de dados em treino e teste"
      ]
    },
    {
      "cell_type": "code",
      "metadata": {
        "id": "SE0u0leZhCrl"
      },
      "source": [
        "# Treino terá 70% dos dados enquanto o conjunto de teste terá 30%\n",
        "X_train, X_test, y_train, y_test = train_test_split(X, y, test_size = 0.3, random_state = 42)"
      ],
      "execution_count": 21,
      "outputs": []
    },
    {
      "cell_type": "markdown",
      "metadata": {
        "id": "vncEHITmibCv"
      },
      "source": [
        "> Normalização dos dados independentes (X)"
      ]
    },
    {
      "cell_type": "code",
      "metadata": {
        "colab": {
          "base_uri": "https://localhost:8080/"
        },
        "id": "8Om6x1VEiZcA",
        "outputId": "40a18424-68da-4ae4-a598-5181a294ca61"
      },
      "source": [
        "range_populacao = dados['população'].max() - dados['população'].min()\n",
        "range_idade = dados['popDe35a49'].max() - dados['popDe35a49'].min()\n",
        "range_domicilio = dados['domiciliosC1'].max() - dados['domiciliosC1'].min()\n",
        "range_renda = dados['rendaMedia'].max() - dados['rendaMedia'].min()\n",
        "print(\"Tamanho das escalas: \\npopulação: {}\\nidade:{}\\ndomicilio: {}\\nrenda: {}\".format(range_populacao,range_idade,range_domicilio,range_renda))"
      ],
      "execution_count": 22,
      "outputs": [
        {
          "output_type": "stream",
          "text": [
            "Tamanho das escalas: \n",
            "população: 667430\n",
            "idade:105278\n",
            "domicilio: 33106\n",
            "renda: 63233.0\n"
          ],
          "name": "stdout"
        }
      ]
    },
    {
      "cell_type": "markdown",
      "metadata": {
        "id": "FfjObx4vm67x"
      },
      "source": [
        "Apesar da população estar em uma escala maior do que as outras, a variação não é grande o suficiente para impactar na influência exercida no modelo"
      ]
    },
    {
      "cell_type": "markdown",
      "metadata": {
        "id": "pihrcnObnKkA"
      },
      "source": [
        ">  **Regressão linear**"
      ]
    },
    {
      "cell_type": "code",
      "metadata": {
        "id": "bCs9aDIxk0nX"
      },
      "source": [
        "# instanciar o modelo de regressão\n",
        "lr = LinearRegression()"
      ],
      "execution_count": 23,
      "outputs": []
    },
    {
      "cell_type": "code",
      "metadata": {
        "colab": {
          "base_uri": "https://localhost:8080/"
        },
        "id": "j7TMq_dFnWNY",
        "outputId": "f4173baf-58a9-46f7-9482-3f0074a7d793"
      },
      "source": [
        "# Treinar o modelo no conjunto de treino\n",
        "lr.fit(X_train, y_train)"
      ],
      "execution_count": 24,
      "outputs": [
        {
          "output_type": "execute_result",
          "data": {
            "text/plain": [
              "LinearRegression(copy_X=True, fit_intercept=True, n_jobs=None, normalize=False)"
            ]
          },
          "metadata": {
            "tags": []
          },
          "execution_count": 24
        }
      ]
    },
    {
      "cell_type": "code",
      "metadata": {
        "id": "bWE66GmepX8s"
      },
      "source": [
        "# armazenar a predição\n",
        "y_pred= lr.predict(X_test)"
      ],
      "execution_count": 25,
      "outputs": []
    },
    {
      "cell_type": "code",
      "metadata": {
        "colab": {
          "base_uri": "https://localhost:8080/"
        },
        "id": "NJnvPQZJpM6c",
        "outputId": "65767db4-2876-434a-c728-09ad9e94cc00"
      },
      "source": [
        "# Usar a métrica MSE e RMSE para averiguar o erro do modelo no treino\n",
        "print('MSE (Treino)', mean_squared_error(y_train, lr.predict(X_train)))\n",
        "print('RMSE (Treino)', np.sqrt(mean_squared_error(y_train, lr.predict(X_train))))"
      ],
      "execution_count": 26,
      "outputs": [
        {
          "output_type": "stream",
          "text": [
            "MSE (Treino) 4793153264.604732\n",
            "RMSE (Treino) 69232.60261325391\n"
          ],
          "name": "stdout"
        }
      ]
    },
    {
      "cell_type": "code",
      "metadata": {
        "colab": {
          "base_uri": "https://localhost:8080/"
        },
        "id": "Nj5_GzEtpTn6",
        "outputId": "ba231e18-b4cb-4ec6-9b76-a168d0fa3ecb"
      },
      "source": [
        "# Usar a métrica MSE e RMSE para averiguar o erro do modelo no teste\n",
        "print('MSE (Teste)', mean_squared_error(y_test, y_pred))\n",
        "print('RMSE (Teste)', np.sqrt(mean_squared_error(y_test, y_pred)))"
      ],
      "execution_count": 27,
      "outputs": [
        {
          "output_type": "stream",
          "text": [
            "MSE (Teste) 95690859202.4314\n",
            "RMSE (Teste) 309339.3916112712\n"
          ],
          "name": "stdout"
        }
      ]
    },
    {
      "cell_type": "markdown",
      "metadata": {
        "id": "AC-WhXi9vt4V"
      },
      "source": [
        "Podemos perceber que o modelo tem excelentes números no treino, mas ao usá-los no teste o erro aumenta considerávelmente, ou seja, a variância do modelo está alta, o que indica um leve overffiting"
      ]
    },
    {
      "cell_type": "code",
      "metadata": {
        "colab": {
          "base_uri": "https://localhost:8080/"
        },
        "id": "Cb0l_yAzpVcW",
        "outputId": "f9bdc2ef-df5a-46bb-cf16-29112367ace7"
      },
      "source": [
        "# Score do modelo\n",
        "lr.score(X_test,y_test)"
      ],
      "execution_count": 28,
      "outputs": [
        {
          "output_type": "execute_result",
          "data": {
            "text/plain": [
              "0.6854729540578055"
            ]
          },
          "metadata": {
            "tags": []
          },
          "execution_count": 28
        }
      ]
    },
    {
      "cell_type": "markdown",
      "metadata": {
        "id": "3Fc43XpbwDy8"
      },
      "source": [
        "O modelo de regressão linear se aproxima 68% do valor real"
      ]
    },
    {
      "cell_type": "code",
      "metadata": {
        "colab": {
          "base_uri": "https://localhost:8080/"
        },
        "id": "3xDtU3tqxuzD",
        "outputId": "1d1ecb83-e12c-439d-ad4d-587c7aa94f44"
      },
      "source": [
        "# coeficiente de angulação do modelo:\n",
        "lr.intercept_"
      ],
      "execution_count": 29,
      "outputs": [
        {
          "output_type": "execute_result",
          "data": {
            "text/plain": [
              "815803.9410079109"
            ]
          },
          "metadata": {
            "tags": []
          },
          "execution_count": 29
        }
      ]
    },
    {
      "cell_type": "markdown",
      "metadata": {
        "id": "NIkKbxgAyxgr"
      },
      "source": [
        "> Importância (peso) de cada feature no modelo"
      ]
    },
    {
      "cell_type": "code",
      "metadata": {
        "colab": {
          "base_uri": "https://localhost:8080/"
        },
        "id": "HYT6gHxGyjMe",
        "outputId": "23c7e208-be26-4783-edcd-172bc5e5747a"
      },
      "source": [
        "# instalar biblioteca de análise de váriaveis independentes\n",
        "!pip install eli5"
      ],
      "execution_count": 30,
      "outputs": [
        {
          "output_type": "stream",
          "text": [
            "Collecting eli5\n",
            "\u001b[?25l  Downloading https://files.pythonhosted.org/packages/d1/54/04cab6e1c0ae535bec93f795d8403fdf6caf66fa5a6512263202dbb14ea6/eli5-0.11.0-py2.py3-none-any.whl (106kB)\n",
            "\r\u001b[K     |███                             | 10kB 18.1MB/s eta 0:00:01\r\u001b[K     |██████▏                         | 20kB 22.0MB/s eta 0:00:01\r\u001b[K     |█████████▎                      | 30kB 10.6MB/s eta 0:00:01\r\u001b[K     |████████████▍                   | 40kB 8.4MB/s eta 0:00:01\r\u001b[K     |███████████████▌                | 51kB 5.6MB/s eta 0:00:01\r\u001b[K     |██████████████████▌             | 61kB 6.5MB/s eta 0:00:01\r\u001b[K     |█████████████████████▋          | 71kB 6.6MB/s eta 0:00:01\r\u001b[K     |████████████████████████▊       | 81kB 6.4MB/s eta 0:00:01\r\u001b[K     |███████████████████████████▉    | 92kB 6.7MB/s eta 0:00:01\r\u001b[K     |███████████████████████████████ | 102kB 6.9MB/s eta 0:00:01\r\u001b[K     |████████████████████████████████| 112kB 6.9MB/s \n",
            "\u001b[?25hRequirement already satisfied: numpy>=1.9.0 in /usr/local/lib/python3.7/dist-packages (from eli5) (1.19.5)\n",
            "Requirement already satisfied: jinja2 in /usr/local/lib/python3.7/dist-packages (from eli5) (2.11.3)\n",
            "Requirement already satisfied: attrs>16.0.0 in /usr/local/lib/python3.7/dist-packages (from eli5) (21.2.0)\n",
            "Requirement already satisfied: scipy in /usr/local/lib/python3.7/dist-packages (from eli5) (1.4.1)\n",
            "Requirement already satisfied: six in /usr/local/lib/python3.7/dist-packages (from eli5) (1.15.0)\n",
            "Requirement already satisfied: graphviz in /usr/local/lib/python3.7/dist-packages (from eli5) (0.10.1)\n",
            "Requirement already satisfied: scikit-learn>=0.20 in /usr/local/lib/python3.7/dist-packages (from eli5) (0.22.2.post1)\n",
            "Requirement already satisfied: tabulate>=0.7.7 in /usr/local/lib/python3.7/dist-packages (from eli5) (0.8.9)\n",
            "Requirement already satisfied: MarkupSafe>=0.23 in /usr/local/lib/python3.7/dist-packages (from jinja2->eli5) (2.0.1)\n",
            "Requirement already satisfied: joblib>=0.11 in /usr/local/lib/python3.7/dist-packages (from scikit-learn>=0.20->eli5) (1.0.1)\n",
            "Installing collected packages: eli5\n",
            "Successfully installed eli5-0.11.0\n"
          ],
          "name": "stdout"
        }
      ]
    },
    {
      "cell_type": "code",
      "metadata": {
        "id": "Kw6AbK9DzMtY",
        "colab": {
          "base_uri": "https://localhost:8080/"
        },
        "outputId": "73490f81-52a1-4b68-a4ad-bc01cf498354"
      },
      "source": [
        "# importar eli5\n",
        "import eli5\n",
        "# importar biblioteca que demonstra a importância \n",
        "from eli5.sklearn import PermutationImportance"
      ],
      "execution_count": 31,
      "outputs": [
        {
          "output_type": "stream",
          "text": [
            "/usr/local/lib/python3.7/dist-packages/sklearn/utils/deprecation.py:144: FutureWarning: The sklearn.feature_selection.base module is  deprecated in version 0.22 and will be removed in version 0.24. The corresponding classes / functions should instead be imported from sklearn.feature_selection. Anything that cannot be imported from sklearn.feature_selection is now part of the private API.\n",
            "  warnings.warn(message, FutureWarning)\n"
          ],
          "name": "stderr"
        }
      ]
    },
    {
      "cell_type": "code",
      "metadata": {
        "id": "DJvxJBNrz1Rr"
      },
      "source": [
        "perm = PermutationImportance(lr).fit(X_train, y_train)"
      ],
      "execution_count": 32,
      "outputs": []
    },
    {
      "cell_type": "code",
      "metadata": {
        "colab": {
          "base_uri": "https://localhost:8080/",
          "height": 333
        },
        "id": "Sz3X2JyPz4Yo",
        "outputId": "d870144d-b962-4ed0-b09d-d0b2e04fb08f"
      },
      "source": [
        "eli5.show_weights(perm, feature_names= list(X.columns))"
      ],
      "execution_count": 33,
      "outputs": [
        {
          "output_type": "execute_result",
          "data": {
            "text/html": [
              "\n",
              "    <style>\n",
              "    table.eli5-weights tr:hover {\n",
              "        filter: brightness(85%);\n",
              "    }\n",
              "</style>\n",
              "\n",
              "\n",
              "\n",
              "    \n",
              "\n",
              "    \n",
              "\n",
              "    \n",
              "\n",
              "    \n",
              "\n",
              "    \n",
              "\n",
              "    \n",
              "\n",
              "\n",
              "    \n",
              "\n",
              "    \n",
              "\n",
              "    \n",
              "\n",
              "    \n",
              "\n",
              "    \n",
              "\n",
              "    \n",
              "\n",
              "\n",
              "    \n",
              "\n",
              "    \n",
              "\n",
              "    \n",
              "\n",
              "    \n",
              "\n",
              "    \n",
              "        <table class=\"eli5-weights eli5-feature-importances\" style=\"border-collapse: collapse; border: none; margin-top: 0em; table-layout: auto;\">\n",
              "    <thead>\n",
              "    <tr style=\"border: none;\">\n",
              "        <th style=\"padding: 0 1em 0 0.5em; text-align: right; border: none;\">Weight</th>\n",
              "        <th style=\"padding: 0 0.5em 0 0.5em; text-align: left; border: none;\">Feature</th>\n",
              "    </tr>\n",
              "    </thead>\n",
              "    <tbody>\n",
              "    \n",
              "        <tr style=\"background-color: hsl(120, 100.00%, 80.00%); border: none;\">\n",
              "            <td style=\"padding: 0 1em 0 0.5em; text-align: right; border: none;\">\n",
              "                47.1851\n",
              "                \n",
              "                    &plusmn; 3.7115\n",
              "                \n",
              "            </td>\n",
              "            <td style=\"padding: 0 0.5em 0 0.5em; text-align: left; border: none;\">\n",
              "                popDe15a19\n",
              "            </td>\n",
              "        </tr>\n",
              "    \n",
              "        <tr style=\"background-color: hsl(120, 100.00%, 85.10%); border: none;\">\n",
              "            <td style=\"padding: 0 1em 0 0.5em; text-align: right; border: none;\">\n",
              "                30.9807\n",
              "                \n",
              "                    &plusmn; 2.4929\n",
              "                \n",
              "            </td>\n",
              "            <td style=\"padding: 0 0.5em 0 0.5em; text-align: left; border: none;\">\n",
              "                popDe20a24\n",
              "            </td>\n",
              "        </tr>\n",
              "    \n",
              "        <tr style=\"background-color: hsl(120, 100.00%, 87.21%); border: none;\">\n",
              "            <td style=\"padding: 0 1em 0 0.5em; text-align: right; border: none;\">\n",
              "                24.9110\n",
              "                \n",
              "                    &plusmn; 2.1871\n",
              "                \n",
              "            </td>\n",
              "            <td style=\"padding: 0 0.5em 0 0.5em; text-align: left; border: none;\">\n",
              "                popDe25a34\n",
              "            </td>\n",
              "        </tr>\n",
              "    \n",
              "        <tr style=\"background-color: hsl(120, 100.00%, 91.81%); border: none;\">\n",
              "            <td style=\"padding: 0 1em 0 0.5em; text-align: right; border: none;\">\n",
              "                13.1806\n",
              "                \n",
              "                    &plusmn; 1.0073\n",
              "                \n",
              "            </td>\n",
              "            <td style=\"padding: 0 0.5em 0 0.5em; text-align: left; border: none;\">\n",
              "                popDe35a49\n",
              "            </td>\n",
              "        </tr>\n",
              "    \n",
              "        <tr style=\"background-color: hsl(120, 100.00%, 92.44%); border: none;\">\n",
              "            <td style=\"padding: 0 1em 0 0.5em; text-align: right; border: none;\">\n",
              "                11.7445\n",
              "                \n",
              "                    &plusmn; 0.6883\n",
              "                \n",
              "            </td>\n",
              "            <td style=\"padding: 0 0.5em 0 0.5em; text-align: left; border: none;\">\n",
              "                popDe10a14\n",
              "            </td>\n",
              "        </tr>\n",
              "    \n",
              "        <tr style=\"background-color: hsl(120, 100.00%, 97.65%); border: none;\">\n",
              "            <td style=\"padding: 0 1em 0 0.5em; text-align: right; border: none;\">\n",
              "                2.2170\n",
              "                \n",
              "                    &plusmn; 0.0833\n",
              "                \n",
              "            </td>\n",
              "            <td style=\"padding: 0 0.5em 0 0.5em; text-align: left; border: none;\">\n",
              "                popDe50a59\n",
              "            </td>\n",
              "        </tr>\n",
              "    \n",
              "        <tr style=\"background-color: hsl(120, 100.00%, 98.29%); border: none;\">\n",
              "            <td style=\"padding: 0 1em 0 0.5em; text-align: right; border: none;\">\n",
              "                1.4074\n",
              "                \n",
              "                    &plusmn; 0.2820\n",
              "                \n",
              "            </td>\n",
              "            <td style=\"padding: 0 0.5em 0 0.5em; text-align: left; border: none;\">\n",
              "                popMaisDe60\n",
              "            </td>\n",
              "        </tr>\n",
              "    \n",
              "        <tr style=\"background-color: hsl(120, 100.00%, 98.78%); border: none;\">\n",
              "            <td style=\"padding: 0 1em 0 0.5em; text-align: right; border: none;\">\n",
              "                0.8636\n",
              "                \n",
              "                    &plusmn; 0.1192\n",
              "                \n",
              "            </td>\n",
              "            <td style=\"padding: 0 0.5em 0 0.5em; text-align: left; border: none;\">\n",
              "                popAte9\n",
              "            </td>\n",
              "        </tr>\n",
              "    \n",
              "        <tr style=\"background-color: hsl(120, 100.00%, 98.88%); border: none;\">\n",
              "            <td style=\"padding: 0 1em 0 0.5em; text-align: right; border: none;\">\n",
              "                0.7685\n",
              "                \n",
              "                    &plusmn; 0.0292\n",
              "                \n",
              "            </td>\n",
              "            <td style=\"padding: 0 0.5em 0 0.5em; text-align: left; border: none;\">\n",
              "                domiciliosC2\n",
              "            </td>\n",
              "        </tr>\n",
              "    \n",
              "        <tr style=\"background-color: hsl(120, 100.00%, 98.93%); border: none;\">\n",
              "            <td style=\"padding: 0 1em 0 0.5em; text-align: right; border: none;\">\n",
              "                0.7159\n",
              "                \n",
              "                    &plusmn; 0.0895\n",
              "                \n",
              "            </td>\n",
              "            <td style=\"padding: 0 0.5em 0 0.5em; text-align: left; border: none;\">\n",
              "                domiciliosC1\n",
              "            </td>\n",
              "        </tr>\n",
              "    \n",
              "        <tr style=\"background-color: hsl(120, 100.00%, 99.17%); border: none;\">\n",
              "            <td style=\"padding: 0 1em 0 0.5em; text-align: right; border: none;\">\n",
              "                0.4976\n",
              "                \n",
              "                    &plusmn; 0.1354\n",
              "                \n",
              "            </td>\n",
              "            <td style=\"padding: 0 0.5em 0 0.5em; text-align: left; border: none;\">\n",
              "                domiciliosA2\n",
              "            </td>\n",
              "        </tr>\n",
              "    \n",
              "        <tr style=\"background-color: hsl(120, 100.00%, 99.79%); border: none;\">\n",
              "            <td style=\"padding: 0 1em 0 0.5em; text-align: right; border: none;\">\n",
              "                0.0721\n",
              "                \n",
              "                    &plusmn; 0.0138\n",
              "                \n",
              "            </td>\n",
              "            <td style=\"padding: 0 0.5em 0 0.5em; text-align: left; border: none;\">\n",
              "                domiciliosE\n",
              "            </td>\n",
              "        </tr>\n",
              "    \n",
              "        <tr style=\"background-color: hsl(120, 100.00%, 99.82%); border: none;\">\n",
              "            <td style=\"padding: 0 1em 0 0.5em; text-align: right; border: none;\">\n",
              "                0.0573\n",
              "                \n",
              "                    &plusmn; 0.0054\n",
              "                \n",
              "            </td>\n",
              "            <td style=\"padding: 0 0.5em 0 0.5em; text-align: left; border: none;\">\n",
              "                rendaMedia\n",
              "            </td>\n",
              "        </tr>\n",
              "    \n",
              "        <tr style=\"background-color: hsl(120, 100.00%, 99.89%); border: none;\">\n",
              "            <td style=\"padding: 0 1em 0 0.5em; text-align: right; border: none;\">\n",
              "                0.0282\n",
              "                \n",
              "                    &plusmn; 0.0027\n",
              "                \n",
              "            </td>\n",
              "            <td style=\"padding: 0 0.5em 0 0.5em; text-align: left; border: none;\">\n",
              "                domiciliosA1\n",
              "            </td>\n",
              "        </tr>\n",
              "    \n",
              "        <tr style=\"background-color: hsl(120, 100.00%, 99.91%); border: none;\">\n",
              "            <td style=\"padding: 0 1em 0 0.5em; text-align: right; border: none;\">\n",
              "                0.0220\n",
              "                \n",
              "                    &plusmn; 0.0045\n",
              "                \n",
              "            </td>\n",
              "            <td style=\"padding: 0 0.5em 0 0.5em; text-align: left; border: none;\">\n",
              "                população\n",
              "            </td>\n",
              "        </tr>\n",
              "    \n",
              "        <tr style=\"background-color: hsl(120, 100.00%, 99.92%); border: none;\">\n",
              "            <td style=\"padding: 0 1em 0 0.5em; text-align: right; border: none;\">\n",
              "                0.0185\n",
              "                \n",
              "                    &plusmn; 0.0036\n",
              "                \n",
              "            </td>\n",
              "            <td style=\"padding: 0 0.5em 0 0.5em; text-align: left; border: none;\">\n",
              "                domiciliosB1\n",
              "            </td>\n",
              "        </tr>\n",
              "    \n",
              "        <tr style=\"background-color: hsl(120, 100.00%, 99.95%); border: none;\">\n",
              "            <td style=\"padding: 0 1em 0 0.5em; text-align: right; border: none;\">\n",
              "                0.0079\n",
              "                \n",
              "                    &plusmn; 0.0070\n",
              "                \n",
              "            </td>\n",
              "            <td style=\"padding: 0 0.5em 0 0.5em; text-align: left; border: none;\">\n",
              "                domiciliosD\n",
              "            </td>\n",
              "        </tr>\n",
              "    \n",
              "        <tr style=\"background-color: hsl(120, 100.00%, 99.96%); border: none;\">\n",
              "            <td style=\"padding: 0 1em 0 0.5em; text-align: right; border: none;\">\n",
              "                0.0064\n",
              "                \n",
              "                    &plusmn; 0.0025\n",
              "                \n",
              "            </td>\n",
              "            <td style=\"padding: 0 0.5em 0 0.5em; text-align: left; border: none;\">\n",
              "                domiciliosB2\n",
              "            </td>\n",
              "        </tr>\n",
              "    \n",
              "    \n",
              "    </tbody>\n",
              "</table>\n",
              "    \n",
              "\n",
              "    \n",
              "\n",
              "\n",
              "    \n",
              "\n",
              "    \n",
              "\n",
              "    \n",
              "\n",
              "    \n",
              "\n",
              "    \n",
              "\n",
              "    \n",
              "\n",
              "\n",
              "\n"
            ],
            "text/plain": [
              "<IPython.core.display.HTML object>"
            ]
          },
          "metadata": {
            "tags": []
          },
          "execution_count": 33
        }
      ]
    },
    {
      "cell_type": "markdown",
      "metadata": {
        "id": "o_94jLkA0S6a"
      },
      "source": [
        "Como podemos ver, as variáveis que mais impactaram no modelo registram sendo as que demonstram a faixa etária"
      ]
    },
    {
      "cell_type": "markdown",
      "metadata": {
        "id": "HgHpvDi-01Tj"
      },
      "source": [
        "> Análise de resíduos"
      ]
    },
    {
      "cell_type": "code",
      "metadata": {
        "colab": {
          "base_uri": "https://localhost:8080/",
          "height": 290
        },
        "id": "p0AH1PlX0JHh",
        "outputId": "d08c67fc-0e6c-4043-9981-a2fd8515ded6"
      },
      "source": [
        "# resíduos\n",
        "res = y_test - y_pred\n",
        "# scatter plot com os resíduos e os valores preditos\n",
        "plt.scatter(y=res,x=y_pred,color = 'green', s=50, alpha =.6)\n",
        "# reta que representa a reta de regressão linear\n",
        "plt.hlines(y=0,xmin=0,xmax=10000000,color='orange')\n",
        "plt.xlabel('Valor Predito')\n",
        "plt.ylabel('Resíduos')\n",
        "plt.show()"
      ],
      "execution_count": 34,
      "outputs": [
        {
          "output_type": "display_data",
          "data": {
            "image/png": "[encoded data removed]",
            "text/plain": [
              "<Figure size 432x288 with 1 Axes>"
            ]
          },
          "metadata": {
            "tags": [],
            "needs_background": "light"
          }
        }
      ]
    },
    {
      "cell_type": "markdown",
      "metadata": {
        "id": "7J04mTLD1HOU"
      },
      "source": [
        "Devido os resíduos não se distanciarem muito, é perceptível que há valores outliers que acabam prejudicando a performance do modelo (há a possibilidade da regressão linear não conseguir lidar com eles também)"
      ]
    },
    {
      "cell_type": "markdown",
      "metadata": {
        "id": "tn3-gdpojHKh"
      },
      "source": [
        "> Análise dos resultados da regressão "
      ]
    },
    {
      "cell_type": "code",
      "metadata": {
        "colab": {
          "base_uri": "https://localhost:8080/",
          "height": 292
        },
        "id": "SfghW5vljLfQ",
        "outputId": "edeb1504-46e5-4a66-ed7a-1d61cb7cf22b"
      },
      "source": [
        "# dados reais em azul\n",
        "plt.plot(X_test['domiciliosA2'], y_test, '.')\n",
        "# dados reais em vermelho\n",
        "plt.plot(X_test['domiciliosA2'], y_pred,'r.')"
      ],
      "execution_count": 42,
      "outputs": [
        {
          "output_type": "execute_result",
          "data": {
            "text/plain": [
              "[<matplotlib.lines.Line2D at 0x7f37ad859f50>]"
            ]
          },
          "metadata": {
            "tags": []
          },
          "execution_count": 42
        },
        {
          "output_type": "display_data",
          "data": {
            "image/png": "[encoded data removed]",
            "text/plain": [
              "<Figure size 432x288 with 1 Axes>"
            ]
          },
          "metadata": {
            "tags": [],
            "needs_background": "light"
          }
        }
      ]
    },
    {
      "cell_type": "markdown",
      "metadata": {
        "id": "He6pO_gYmqvc"
      },
      "source": [
        "Como podemos ver, os dados preditos estão relativamente próximos dos dados que foram usados pra testar o modelo"
      ]
    },
    {
      "cell_type": "markdown",
      "metadata": {
        "id": "ymmB2sE85A8J"
      },
      "source": [
        "> Dessa forma, conseguimos fazer um modelo de regressão linear tecnicamente aceitável, indicando ótimos resultados com modelos de regressão mais complexos, a regressão linear apesar de simples foi muito útil para a compreensão e predição dos dados"
      ]
    }
  ]
}